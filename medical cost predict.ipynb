{
 "cells": [
  {
   "cell_type": "code",
   "execution_count": 1,
   "metadata": {
    "collapsed": true
   },
   "outputs": [],
   "source": [
    "import get_data\n",
    "import numpy as np\n",
    "import pandas as pd\n",
    "import regression_model\n",
    "from statsmodels.stats.outliers_influence import variance_inflation_factor\n",
    "from sklearn.model_selection import train_test_split\n",
    "from sklearn.metrics import r2_score,mean_squared_error"
   ]
  },
  {
   "cell_type": "code",
   "execution_count": 2,
   "outputs": [
    {
     "data": {
      "text/plain": "   age     sex     bmi  children smoker     region      charges\n0   19  female  27.900         0    yes  southwest  16884.92400\n1   18    male  33.770         1     no  southeast   1725.55230\n2   28    male  33.000         3     no  southeast   4449.46200\n3   33    male  22.705         0     no  northwest  21984.47061\n4   32    male  28.880         0     no  northwest   3866.85520",
      "text/html": "<div>\n<style scoped>\n    .dataframe tbody tr th:only-of-type {\n        vertical-align: middle;\n    }\n\n    .dataframe tbody tr th {\n        vertical-align: top;\n    }\n\n    .dataframe thead th {\n        text-align: right;\n    }\n</style>\n<table border=\"1\" class=\"dataframe\">\n  <thead>\n    <tr style=\"text-align: right;\">\n      <th></th>\n      <th>age</th>\n      <th>sex</th>\n      <th>bmi</th>\n      <th>children</th>\n      <th>smoker</th>\n      <th>region</th>\n      <th>charges</th>\n    </tr>\n  </thead>\n  <tbody>\n    <tr>\n      <th>0</th>\n      <td>19</td>\n      <td>female</td>\n      <td>27.900</td>\n      <td>0</td>\n      <td>yes</td>\n      <td>southwest</td>\n      <td>16884.92400</td>\n    </tr>\n    <tr>\n      <th>1</th>\n      <td>18</td>\n      <td>male</td>\n      <td>33.770</td>\n      <td>1</td>\n      <td>no</td>\n      <td>southeast</td>\n      <td>1725.55230</td>\n    </tr>\n    <tr>\n      <th>2</th>\n      <td>28</td>\n      <td>male</td>\n      <td>33.000</td>\n      <td>3</td>\n      <td>no</td>\n      <td>southeast</td>\n      <td>4449.46200</td>\n    </tr>\n    <tr>\n      <th>3</th>\n      <td>33</td>\n      <td>male</td>\n      <td>22.705</td>\n      <td>0</td>\n      <td>no</td>\n      <td>northwest</td>\n      <td>21984.47061</td>\n    </tr>\n    <tr>\n      <th>4</th>\n      <td>32</td>\n      <td>male</td>\n      <td>28.880</td>\n      <td>0</td>\n      <td>no</td>\n      <td>northwest</td>\n      <td>3866.85520</td>\n    </tr>\n  </tbody>\n</table>\n</div>"
     },
     "execution_count": 2,
     "metadata": {},
     "output_type": "execute_result"
    }
   ],
   "source": [
    "data = pd.read_csv('./insurance.csv')\n",
    "data.head()"
   ],
   "metadata": {
    "collapsed": false,
    "pycharm": {
     "name": "#%%\n"
    }
   }
  },
  {
   "cell_type": "code",
   "execution_count": 3,
   "outputs": [],
   "source": [
    "inspector = get_data.get('./insurance.csv')\n",
    "by_row,by_feature = inspector.detect_missing_values()"
   ],
   "metadata": {
    "collapsed": false,
    "pycharm": {
     "name": "#%%\n"
    }
   }
  },
  {
   "cell_type": "code",
   "execution_count": 4,
   "outputs": [
    {
     "data": {
      "text/plain": "          missing count\nage                   0\nsex                   0\nbmi                   0\nchildren              0\nsmoker                0\nregion                0\ncharges               0",
      "text/html": "<div>\n<style scoped>\n    .dataframe tbody tr th:only-of-type {\n        vertical-align: middle;\n    }\n\n    .dataframe tbody tr th {\n        vertical-align: top;\n    }\n\n    .dataframe thead th {\n        text-align: right;\n    }\n</style>\n<table border=\"1\" class=\"dataframe\">\n  <thead>\n    <tr style=\"text-align: right;\">\n      <th></th>\n      <th>missing count</th>\n    </tr>\n  </thead>\n  <tbody>\n    <tr>\n      <th>age</th>\n      <td>0</td>\n    </tr>\n    <tr>\n      <th>sex</th>\n      <td>0</td>\n    </tr>\n    <tr>\n      <th>bmi</th>\n      <td>0</td>\n    </tr>\n    <tr>\n      <th>children</th>\n      <td>0</td>\n    </tr>\n    <tr>\n      <th>smoker</th>\n      <td>0</td>\n    </tr>\n    <tr>\n      <th>region</th>\n      <td>0</td>\n    </tr>\n    <tr>\n      <th>charges</th>\n      <td>0</td>\n    </tr>\n  </tbody>\n</table>\n</div>"
     },
     "execution_count": 4,
     "metadata": {},
     "output_type": "execute_result"
    }
   ],
   "source": [
    "by_feature"
   ],
   "metadata": {
    "collapsed": false,
    "pycharm": {
     "name": "#%%\n"
    }
   }
  },
  {
   "cell_type": "code",
   "execution_count": 5,
   "outputs": [],
   "source": [
    "target = data['charges']\n",
    "data = data.drop(labels='charges',axis=1)"
   ],
   "metadata": {
    "collapsed": false,
    "pycharm": {
     "name": "#%%\n"
    }
   }
  },
  {
   "cell_type": "code",
   "execution_count": 6,
   "outputs": [
    {
     "data": {
      "text/plain": "      age     bmi  children\n0      19  27.900         0\n1      18  33.770         1\n2      28  33.000         3\n3      33  22.705         0\n4      32  28.880         0\n...   ...     ...       ...\n1333   50  30.970         3\n1334   18  31.920         0\n1335   18  36.850         0\n1336   21  25.800         0\n1337   61  29.070         0\n\n[1338 rows x 3 columns]",
      "text/html": "<div>\n<style scoped>\n    .dataframe tbody tr th:only-of-type {\n        vertical-align: middle;\n    }\n\n    .dataframe tbody tr th {\n        vertical-align: top;\n    }\n\n    .dataframe thead th {\n        text-align: right;\n    }\n</style>\n<table border=\"1\" class=\"dataframe\">\n  <thead>\n    <tr style=\"text-align: right;\">\n      <th></th>\n      <th>age</th>\n      <th>bmi</th>\n      <th>children</th>\n    </tr>\n  </thead>\n  <tbody>\n    <tr>\n      <th>0</th>\n      <td>19</td>\n      <td>27.900</td>\n      <td>0</td>\n    </tr>\n    <tr>\n      <th>1</th>\n      <td>18</td>\n      <td>33.770</td>\n      <td>1</td>\n    </tr>\n    <tr>\n      <th>2</th>\n      <td>28</td>\n      <td>33.000</td>\n      <td>3</td>\n    </tr>\n    <tr>\n      <th>3</th>\n      <td>33</td>\n      <td>22.705</td>\n      <td>0</td>\n    </tr>\n    <tr>\n      <th>4</th>\n      <td>32</td>\n      <td>28.880</td>\n      <td>0</td>\n    </tr>\n    <tr>\n      <th>...</th>\n      <td>...</td>\n      <td>...</td>\n      <td>...</td>\n    </tr>\n    <tr>\n      <th>1333</th>\n      <td>50</td>\n      <td>30.970</td>\n      <td>3</td>\n    </tr>\n    <tr>\n      <th>1334</th>\n      <td>18</td>\n      <td>31.920</td>\n      <td>0</td>\n    </tr>\n    <tr>\n      <th>1335</th>\n      <td>18</td>\n      <td>36.850</td>\n      <td>0</td>\n    </tr>\n    <tr>\n      <th>1336</th>\n      <td>21</td>\n      <td>25.800</td>\n      <td>0</td>\n    </tr>\n    <tr>\n      <th>1337</th>\n      <td>61</td>\n      <td>29.070</td>\n      <td>0</td>\n    </tr>\n  </tbody>\n</table>\n<p>1338 rows × 3 columns</p>\n</div>"
     },
     "execution_count": 6,
     "metadata": {},
     "output_type": "execute_result"
    }
   ],
   "source": [
    "numeric_data = data.select_dtypes(include=np.number)\n",
    "numeric_data"
   ],
   "metadata": {
    "collapsed": false,
    "pycharm": {
     "name": "#%%\n"
    }
   }
  },
  {
   "cell_type": "code",
   "execution_count": 7,
   "outputs": [
    {
     "data": {
      "text/plain": "   features       VFI\n2  children  1.796637\n0       age  7.536550\n1       bmi  7.846515",
      "text/html": "<div>\n<style scoped>\n    .dataframe tbody tr th:only-of-type {\n        vertical-align: middle;\n    }\n\n    .dataframe tbody tr th {\n        vertical-align: top;\n    }\n\n    .dataframe thead th {\n        text-align: right;\n    }\n</style>\n<table border=\"1\" class=\"dataframe\">\n  <thead>\n    <tr style=\"text-align: right;\">\n      <th></th>\n      <th>features</th>\n      <th>VFI</th>\n    </tr>\n  </thead>\n  <tbody>\n    <tr>\n      <th>2</th>\n      <td>children</td>\n      <td>1.796637</td>\n    </tr>\n    <tr>\n      <th>0</th>\n      <td>age</td>\n      <td>7.536550</td>\n    </tr>\n    <tr>\n      <th>1</th>\n      <td>bmi</td>\n      <td>7.846515</td>\n    </tr>\n  </tbody>\n</table>\n</div>"
     },
     "execution_count": 7,
     "metadata": {},
     "output_type": "execute_result"
    }
   ],
   "source": [
    "vfi = pd.DataFrame()\n",
    "vfi['features'] = numeric_data.columns\n",
    "vfi['VFI'] = [variance_inflation_factor(numeric_data.values,i) for i in range(numeric_data.shape[1])]\n",
    "vfi.sort_values(by='VFI')"
   ],
   "metadata": {
    "collapsed": false,
    "pycharm": {
     "name": "#%%\n"
    }
   }
  },
  {
   "cell_type": "code",
   "execution_count": 8,
   "outputs": [
    {
     "data": {
      "text/plain": "2"
     },
     "execution_count": 8,
     "metadata": {},
     "output_type": "execute_result"
    }
   ],
   "source": [
    "full = pd.get_dummies(data)\n",
    "full.ndim"
   ],
   "metadata": {
    "collapsed": false,
    "pycharm": {
     "name": "#%%\n"
    }
   }
  },
  {
   "cell_type": "code",
   "execution_count": 9,
   "outputs": [
    {
     "data": {
      "text/plain": "array([[1.],\n       [1.],\n       [1.],\n       ...,\n       [1.],\n       [1.],\n       [1.]])"
     },
     "execution_count": 9,
     "metadata": {},
     "output_type": "execute_result"
    }
   ],
   "source": [
    "np.ones(full.shape[0]).reshape(-1,1)"
   ],
   "metadata": {
    "collapsed": false,
    "pycharm": {
     "name": "#%%\n"
    }
   }
  },
  {
   "cell_type": "code",
   "execution_count": 10,
   "outputs": [
    {
     "data": {
      "text/plain": "(1338, 12)"
     },
     "execution_count": 10,
     "metadata": {},
     "output_type": "execute_result"
    }
   ],
   "source": [
    "full = np.hstack([full,np.ones(full.shape[0]).reshape(-1,1)])\n",
    "full.shape"
   ],
   "metadata": {
    "collapsed": false,
    "pycharm": {
     "name": "#%%\n"
    }
   }
  },
  {
   "cell_type": "code",
   "execution_count": 11,
   "outputs": [
    {
     "data": {
      "text/plain": "((1070, 12), (1070,), (268, 12), (268,))"
     },
     "execution_count": 11,
     "metadata": {},
     "output_type": "execute_result"
    }
   ],
   "source": [
    "train_x,test_x,train_y,test_y = train_test_split(full,target,test_size=0.2,random_state=42)\n",
    "train_x.shape,train_y.shape,test_x.shape,test_y.shape"
   ],
   "metadata": {
    "collapsed": false,
    "pycharm": {
     "name": "#%%\n"
    }
   }
  },
  {
   "cell_type": "code",
   "execution_count": 12,
   "outputs": [],
   "source": [
    "weights = regression_model.regression(train_x,train_y)"
   ],
   "metadata": {
    "collapsed": false,
    "pycharm": {
     "name": "#%%\n"
    }
   }
  },
  {
   "cell_type": "code",
   "execution_count": 13,
   "outputs": [
    {
     "data": {
      "text/plain": "array([   256.97570583,    337.09255195,    425.27878352,   -118.37875696,\n         -136.9704486 , -11953.23903066,  11697.8898251 ,    395.74794285,\n           25.07061663,   -262.11635371,   -414.05141133,   -255.34920556])"
     },
     "execution_count": 13,
     "metadata": {},
     "output_type": "execute_result"
    }
   ],
   "source": [
    "weights"
   ],
   "metadata": {
    "collapsed": false,
    "pycharm": {
     "name": "#%%\n"
    }
   }
  },
  {
   "cell_type": "code",
   "execution_count": 16,
   "outputs": [
    {
     "data": {
      "text/plain": "array([ 8969.55027444,  7068.74744287, 36858.41091155,  9454.67850053,\n       26973.17345656, 10864.11316424,   170.28084136, 16903.45028662,\n        1092.43093614, 11218.34318352, 28101.68455267,  9377.73460205,\n        5263.0595179 , 38416.04221107, 40255.82339284, 37098.25353123,\n       15240.39392306, 35912.88264434,  9112.52398703, 31461.92108909,\n        3847.68845883, 10130.12001517,  2370.54189389,  7140.21550828,\n       11301.76782638, 12961.65366224, 14509.47251876,  6159.8976107 ,\n        9963.85857263,  2177.85718217,  9115.93673493, 13073.68932159,\n        4561.82376202,  3408.20756033,  4459.81359745, 13032.06505076,\n        1979.99357292,  8813.28303302, 33271.29124448, 32585.51583927,\n        3908.76090964,  4326.10774721, 14142.81326533, 11423.45494846,\n        8774.13955311, 12097.28051001,  5281.57353499,  3150.5596042 ,\n       35494.46461214,  9150.1124786 , 15836.84575621,  2343.57470069,\n       12364.78414194,  1482.29488266, 13389.06105161, 12573.57395972,\n        4341.83680558, 32165.33688042, 13321.3360032 , 12896.82071102,\n       14167.99421483, 10506.17623512, 16360.78543548,  7763.89824584,\n       11839.25019431,  4061.19750503, 26652.40230125, 10930.14138671,\n        2137.41385988,  6209.01123411, 10729.82391284, 11628.3104129 ,\n       10981.04528946,  9166.50818596, 11954.27732874,  6747.85121734,\n        7248.5304713 , 10735.16710748,  6580.84819774,  8762.00329355,\n        3767.13383454, 36632.4975496 ,  6378.11979721, 30842.09248656,\n       34846.52451051, 35278.07387112,  7019.444352  , 12861.38414264,\n        9942.30149778, 14473.5260648 , 17693.37304474, 35258.24845137,\n       33029.58968269,  6185.91730447, 31999.98962535,  9481.33158273,\n       29444.04271523,  3674.48498404, 28308.26432106,  5823.36495229,\n        5407.76752001,  1883.4947576 , 11499.675042  , 15075.90690632,\n       11699.63163008,  4308.82427855,  9895.1840044 , 31708.40056201,\n         -86.87094667, 32819.71429004,  3280.69178415, 10183.88853878,\n       14318.76389179, 31642.35684542, 11461.57806791,  3929.23701831,\n       13107.89313088, 31810.99450607,  8152.02593593,  3238.08417076,\n        8439.56108376, 10594.63871458, 15219.68736374,  5647.8808143 ,\n        3781.95285499, 10228.944897  , 10900.12933883, 11122.74845192,\n       14438.14112575,  7430.31504776,  5386.22676759,  9231.32739901,\n        9343.76283713, 12538.27606344,  8337.66982683, 15333.36900871,\n        8411.2145439 , 31797.27496298, 35785.91843418, 31603.71967017,\n        6011.96229251, 12607.03584641,  6013.5115031 , 14560.79590559,\n        2493.47989441, 32963.45524228,  6265.14380504,  5034.62173797,\n       14344.81347407,  6941.1412259 , 38670.01270366,  3087.58741836,\n        5885.8752536 , 31686.24200595, 11562.61859836,  8476.04749512,\n       14806.72486264,  9814.46186143, 27105.71831469, 33453.83352069,\n       14551.8999207 ,  1684.36856768, 13166.96197398,  2222.76894041,\n        5449.59393727, 11568.96325488, 39807.96912709, 36500.65163031,\n       34001.37945748,  3897.27856532,  7456.14132125,  8661.82084477,\n       12450.92458882,  4813.53293089,  2047.65528159, 32112.11251984,\n       25111.52085938, 17484.27663755, 26411.46181822, 10159.52421   ,\n       37260.32666386,  -441.23918333,  6779.55013103,  7781.45337795,\n        4367.95988484,  5105.87170813,  5919.18675042,  4305.71645941,\n       15191.08806502, 11132.09935114,  6932.80116584,  2525.64793222,\n        1536.05183213, 31944.78284317, 16414.12251517, 12011.53367195,\n        1268.05926603, 12531.25953189,  1564.93415917,  8737.33621694,\n        1873.03940488, 33916.22971211, 10858.38635063,  2603.43633853,\n       25674.40250332, 26343.43022704,  9430.91152033,  1800.73500777,\n       13261.42480211,  1120.17810533, 10386.66427709, 10567.29006474,\n       16944.25995713, 26846.54662457,  6939.11178392,  5193.04710054,\n        5846.00017265, 13229.60536846, 11098.33930228,  8362.28134289,\n        5135.53940151, 12308.34064139, 13861.17886997, 35773.70926219,\n        4157.01930317, 28917.86562624,  -914.37342357,  2873.71150671,\n       11046.2540774 , 15683.06950225,  5210.67532324,  6888.38518351,\n        3854.31140958, 31312.64705453,  7241.43226665, 12405.99508651,\n        5619.17039188,  9528.22557021, 36314.009043  ,  4429.40596906,\n        9667.91523953, 31161.15738995,  5747.13292318,  4603.37294255,\n        1048.35533791,  4832.6604097 ,  4574.9041044 ,  6507.30666036,\n       18659.12407756, -1545.57184934,  2376.4352498 , 10694.62157146,\n        3151.28919904, 10209.96361187,  3733.89128353,  5125.08103172,\n       12400.90700504,  6218.65296628,  8231.63765089,  7590.50155269,\n        8924.15352268, 10482.90359975, 27808.04576398, 39061.50093248,\n       11761.4991981 ,  7687.56363151, 40920.29151165, 12318.58665305])"
     },
     "execution_count": 16,
     "metadata": {},
     "output_type": "execute_result"
    }
   ],
   "source": [
    "predict_1 = np.dot(test_x,weights)\n",
    "predict_1"
   ],
   "metadata": {
    "collapsed": false,
    "pycharm": {
     "name": "#%%\n"
    }
   }
  },
  {
   "cell_type": "code",
   "execution_count": 17,
   "outputs": [
    {
     "data": {
      "text/plain": "(78.35929767120724, 33596915.851361446)"
     },
     "execution_count": 17,
     "metadata": {},
     "output_type": "execute_result"
    }
   ],
   "source": [
    "r2_score(test_y,predict_1)*100, mean_squared_error(test_y,predict_1)"
   ],
   "metadata": {
    "collapsed": false,
    "pycharm": {
     "name": "#%%\n"
    }
   }
  },
  {
   "cell_type": "code",
   "execution_count": 20,
   "outputs": [
    {
     "data": {
      "text/plain": "array([ 15.74645111,   6.41794801,   4.10267011,  -0.40250128,\n        -1.52602772, -44.4207607 ,  42.4922317 ,   1.58144123,\n        -0.71585752,  -0.41115258,  -2.38296013,  -1.928529  ])"
     },
     "execution_count": 20,
     "metadata": {},
     "output_type": "execute_result"
    }
   ],
   "source": [
    "weights_gd,cost_history = regression_model.fit(np.sqrt(train_x),np.sqrt(train_y),0.001,10001)\n",
    "weights_gd"
   ],
   "metadata": {
    "collapsed": false,
    "pycharm": {
     "name": "#%%\n"
    }
   }
  },
  {
   "cell_type": "code",
   "execution_count": 21,
   "outputs": [
    {
     "data": {
      "text/plain": "array([ 98.46396551,  82.17532272, 198.69449287,  97.87685281,\n       143.21899292,  87.69752616,  51.62268703, 116.89383798,\n        64.83866496, 103.11650099, 161.70993724,  93.53389224,\n        76.64847445, 194.29618471, 201.65281452, 192.43003391,\n       110.79267658, 190.64811793,  97.72825121, 175.97926913,\n        69.02365163,  95.4443382 ,  53.76503488,  69.17865932,\n       105.0158918 , 107.23107523, 110.86003007,  76.84546798,\n       101.68461938,  53.7545403 ,  93.39990553, 107.62143815,\n        62.89487344,  74.55128551,  69.28840303,  99.82813569,\n        60.1032371 ,  93.31821664, 188.62372222, 175.28532025,\n        62.99881078,  65.30367572, 111.20414252, 104.74323103,\n        86.34580446, 108.45118186,  67.7122727 ,  68.34083161,\n       187.48058048,  84.95350148, 116.48844134,  57.4042231 ,\n        97.52919109,  53.31647224, 107.20782667, 107.22014197,\n        72.33660853, 170.73714448, 107.710771  , 106.47323829,\n       112.04059419,  87.0299552 , 118.39260409,  92.46318148,\n       104.04042988,  72.64171895, 149.55525411, 105.34485081,\n        65.82042358,  63.9353027 ,  93.94166003, 103.90451048,\n        98.98385727,  92.34989667,  99.86045047,  82.42141074,\n        79.26886451, 102.87223151,  78.82979991,  96.13758213,\n        59.18598756, 197.76653936,  80.77785736, 161.92639257,\n       163.12446321, 188.16932763,  81.12707243, 104.93003401,\n        97.14239716, 110.3109094 , 124.23169333, 196.49436322,\n       186.60135704,  80.92532098, 171.55941527,  92.78893105,\n       166.32454156,  60.12563104, 164.01283432,  84.87794308,\n        77.08720115,  54.00450516,  93.262386  , 113.24453963,\n       107.90443108,  60.70015534,  97.52022713, 182.60304031,\n        50.25068946, 189.18761171,  55.30303479,  79.88634748,\n       115.38250086, 173.92209805, 104.76407787,  61.13296715,\n       109.99713281, 179.99952653,  90.03919691,  64.59904596,\n        87.75681289,  95.57001117, 113.94118669,  67.28781004,\n        72.99649224,  96.06269181,  98.51077755, 103.08676029,\n       111.8652635 ,  68.77932561,  76.43240548,  89.57526488,\n        90.2291083 , 100.1710278 ,  85.95821705, 113.88675185,\n        82.26435123, 173.85593041, 183.94985603, 173.13116519,\n        80.28859825, 104.65774228,  70.20121915, 111.19851995,\n        63.00699037, 185.15445813,  81.29580695,  73.15902386,\n       110.80358783,  82.44593002, 200.15219784,  62.08296174,\n        59.6850849 , 171.01573055,  94.57899895,  83.31531902,\n       114.06154669,  99.67344537, 145.31693843, 181.05348951,\n       116.75908866,  57.8365779 , 113.98791684,  60.9971548 ,\n        69.06542075,  98.69794613, 202.16823215, 194.15416208,\n       185.10670465,  64.92537896,  94.81314104,  89.89240768,\n        93.95880845,  75.86833451,  58.13298711, 183.03322834,\n       139.07007103, 118.51862385, 161.37349273, 102.31505411,\n       200.5287705 ,  57.40912444,  91.85543891,  84.04199791,\n        76.06253765,  66.73441648,  77.5470254 ,  70.89028069,\n       108.09766646, 101.93224808,  71.45665544,  56.29607482,\n        59.58665649, 168.79709979, 115.69383312, 102.76694922,\n        57.0459151 , 110.83414006,  54.55906918,  94.68200628,\n        63.08360413, 185.44131541,  86.44059434,  59.35995774,\n       147.52266765, 153.49989716,  95.73530748,  63.1019419 ,\n       101.47484698,  62.97052097, 103.418916  , 107.25111772,\n       111.92658808, 152.30365348,  89.1753633 ,  74.99462642,\n        81.52013587, 114.75121264, 106.59520756,  87.63512609,\n        63.04929928,  96.20535348,  98.38017176, 187.27906939,\n        61.63397037, 158.07232315,  48.63172168,  55.54254688,\n       103.43847459, 112.59734576,  62.83247466,  92.25134437,\n        73.29652193, 173.75018354,  93.56288597, 100.89832829,\n        73.16384412,  89.26812818, 188.37873408,  62.86688685,\n       104.28239677, 165.49333947,  68.95332029,  72.33683567,\n        52.24787246,  67.47135182,  73.64569125,  78.94041532,\n       119.44223902,  46.87887073,  56.20293131,  94.56852663,\n        66.78676908, 103.97254022,  61.47819855,  72.10761751,\n       106.21527543,  73.17889507,  94.38442799,  85.04958367,\n        93.60417081, 104.98975437, 155.09845871, 201.62798196,\n       105.9072082 ,  88.85218397, 199.65308995, 104.95272424])"
     },
     "execution_count": 21,
     "metadata": {},
     "output_type": "execute_result"
    }
   ],
   "source": [
    "predict_2 = np.dot(np.sqrt(test_x),weights_gd)\n",
    "predict_2"
   ],
   "metadata": {
    "collapsed": false,
    "pycharm": {
     "name": "#%%\n"
    }
   }
  },
  {
   "cell_type": "code",
   "execution_count": 22,
   "outputs": [
    {
     "data": {
      "text/plain": "(80.27946220684301, 478.51448142368764)"
     },
     "execution_count": 22,
     "metadata": {},
     "output_type": "execute_result"
    }
   ],
   "source": [
    "r2_score(np.sqrt(test_y),predict_2)*100, mean_squared_error(np.sqrt(test_y),predict_2)"
   ],
   "metadata": {
    "collapsed": false,
    "pycharm": {
     "name": "#%%\n"
    }
   }
  }
 ],
 "metadata": {
  "kernelspec": {
   "display_name": "Python 3",
   "language": "python",
   "name": "python3"
  },
  "language_info": {
   "codemirror_mode": {
    "name": "ipython",
    "version": 2
   },
   "file_extension": ".py",
   "mimetype": "text/x-python",
   "name": "python",
   "nbconvert_exporter": "python",
   "pygments_lexer": "ipython2",
   "version": "2.7.6"
  }
 },
 "nbformat": 4,
 "nbformat_minor": 0
}